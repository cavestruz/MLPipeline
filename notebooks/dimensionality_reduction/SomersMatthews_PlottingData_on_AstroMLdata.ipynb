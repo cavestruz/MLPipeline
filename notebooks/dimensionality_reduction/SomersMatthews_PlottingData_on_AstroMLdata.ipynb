{
 "cells": [
  {
   "cell_type": "code",
   "execution_count": 2,
   "metadata": {
    "collapsed": true
   },
   "outputs": [],
   "source": [
    "import numpy as np\n",
    "from matplotlib import pyplot as plt\n",
    "from matplotlib.patches import Ellipse"
   ]
  },
  {
   "cell_type": "code",
   "execution_count": 3,
   "metadata": {
    "collapsed": true
   },
   "outputs": [],
   "source": [
    "from astroML.plotting import setup_text_plots\n",
    "setup_text_plots(fontsize=8, usetex=True)"
   ]
  },
  {
   "cell_type": "code",
   "execution_count": 4,
   "metadata": {
    "collapsed": true
   },
   "outputs": [],
   "source": [
    "np.random.seed(42)\n",
    "r = 0.9"
   ]
  },
  {
   "cell_type": "code",
   "execution_count": 5,
   "metadata": {
    "collapsed": true
   },
   "outputs": [],
   "source": [
    "sigma1 = 0.25\n",
    "sigma2 = 0.08\n",
    "rotation = np.pi / 6\n",
    "s = np.sin(rotation)\n",
    "c = np.cos(rotation)\n",
    "\n",
    "X = np.random.normal(0, [sigma1, sigma2], size=(100, 2)).T\n",
    "R = np.array([[c, -s],\n",
    "              [s, c]])\n",
    "X = np.dot(R, X)\n"
   ]
  },
  {
   "cell_type": "code",
   "execution_count": 6,
   "metadata": {
    "collapsed": true
   },
   "outputs": [],
   "source": [
    "fig = plt.figure(figsize=(5, 5), facecolor='w')\n",
    "ax = plt.axes((0, 0, 1, 1), xticks=[], yticks=[], frameon=False)"
   ]
  },
  {
   "cell_type": "code",
   "execution_count": 7,
   "metadata": {
    "collapsed": false
   },
   "outputs": [
    {
     "data": {
      "text/plain": [
       "<matplotlib.text.Annotation at 0x11a49c390>"
      ]
     },
     "execution_count": 7,
     "metadata": {},
     "output_type": "execute_result"
    }
   ],
   "source": [
    "ax.annotate(r'$x$', (-r, 0), (r, 0),\n",
    "            ha='center', va='center',\n",
    "            arrowprops=dict(arrowstyle='<->', color='k', lw=1))\n",
    "ax.annotate(r'$y$', (0, -r), (0, r),\n",
    "            ha='center', va='center',\n",
    "            arrowprops=dict(arrowstyle='<->', color='k', lw=1))"
   ]
  },
  {
   "cell_type": "code",
   "execution_count": 8,
   "metadata": {
    "collapsed": false
   },
   "outputs": [
    {
     "data": {
      "text/plain": [
       "<matplotlib.text.Annotation at 0x11a49cf50>"
      ]
     },
     "execution_count": 8,
     "metadata": {},
     "output_type": "execute_result"
    }
   ],
   "source": [
    "ax.annotate(r'$x^\\prime$', (-r * c, -r * s), (r * c, r * s),\n",
    "            ha='center', va='center',\n",
    "            arrowprops=dict(color='k', arrowstyle='<->', lw=1))\n",
    "ax.annotate(r'$y^\\prime$', (r * s, -r * c), (-r * s, r * c),\n",
    "            ha='center', va='center',\n",
    "            arrowprops=dict(color='k', arrowstyle='<->', lw=1))"
   ]
  },
  {
   "cell_type": "code",
   "execution_count": 9,
   "metadata": {
    "collapsed": false
   },
   "outputs": [
    {
     "data": {
      "text/plain": [
       "<matplotlib.collections.PathCollection at 0x11a49c1d0>"
      ]
     },
     "execution_count": 9,
     "metadata": {},
     "output_type": "execute_result"
    }
   ],
   "source": [
    "ax.scatter(X[0], X[1], s=25, lw=0, c='k', zorder=2)"
   ]
  },
  {
   "cell_type": "code",
   "execution_count": 10,
   "metadata": {
    "collapsed": true
   },
   "outputs": [],
   "source": [
    "vnorm = np.array([s, -c])\n",
    "for v in (X.T):\n",
    "    d = np.dot(v, vnorm)\n",
    "    v1 = v - d * vnorm\n",
    "    ax.plot([v[0], v1[0]], [v[1], v1[1]], '-k')"
   ]
  },
  {
   "cell_type": "code",
   "execution_count": 11,
   "metadata": {
    "collapsed": true
   },
   "outputs": [],
   "source": [
    "for sigma in (1, 2, 3):\n",
    "    ax.add_patch(Ellipse((0, 0), 2 * sigma * sigma1, 2 * sigma * sigma2,\n",
    "                         rotation * 180. / np.pi,\n",
    "                         ec='k', fc='gray', alpha=0.2, zorder=1))"
   ]
  },
  {
   "cell_type": "code",
   "execution_count": 12,
   "metadata": {
    "collapsed": true
   },
   "outputs": [],
   "source": [
    "%matplotlib inline"
   ]
  },
  {
   "cell_type": "code",
   "execution_count": 13,
   "metadata": {
    "collapsed": true
   },
   "outputs": [],
   "source": [
    "ax.set_xlim(-1, 1)\n",
    "ax.set_ylim(-1, 1)\n",
    "\n",
    "plt.show()"
   ]
  },
  {
   "cell_type": "code",
   "execution_count": null,
   "metadata": {
    "collapsed": true
   },
   "outputs": [],
   "source": []
  }
 ],
 "metadata": {
  "kernelspec": {
   "display_name": "Python 2",
   "language": "python",
   "name": "python2"
  },
  "language_info": {
   "codemirror_mode": {
    "name": "ipython",
    "version": 2
   },
   "file_extension": ".py",
   "mimetype": "text/x-python",
   "name": "python",
   "nbconvert_exporter": "python",
   "pygments_lexer": "ipython2",
   "version": "2.7.13"
  }
 },
 "nbformat": 4,
 "nbformat_minor": 2
}
