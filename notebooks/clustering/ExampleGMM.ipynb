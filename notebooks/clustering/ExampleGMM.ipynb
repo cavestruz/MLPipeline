{
 "cells": [
  {
   "cell_type": "code",
   "execution_count": 8,
   "metadata": {
    "collapsed": false
   },
   "outputs": [],
   "source": [
    "from matplotlib import pyplot as plt\n",
    "import numpy as np\n",
    "from sklearn.mixture import GMM\n",
    "\n",
    "#------------------------------------------------------------\n",
    "# Set up the dataset with a GMM to sample data from a mixture of 3 Gaussians.  \n"
   ]
  },
  {
   "cell_type": "code",
   "execution_count": 11,
   "metadata": {
    "collapsed": true
   },
   "outputs": [],
   "source": [
    "# first argument is number of components M=3\n",
    "model = GMM(3, n_iter=1)\n",
    "\n",
    "#  Set the internal means, covariances,\n",
    "#  and weights by-hand.\n",
    "model.means_ = np.array([[-1], [0], [3]])\n",
    "model.covars_ = np.array([[1.5], [1], [0.5]]) ** 2\n",
    "model.weights_ = np.array([0.3, 0.5, 0.2])\n",
    "\n",
    "X = model.sample(1000)"
   ]
  },
  {
   "cell_type": "markdown",
   "metadata": {},
   "source": [
    "Fit X in the gmm model for 1, 2, ... 10 components.  Hint: You should create 10 instances of a GMM model, e.g. GMM(?).fit(X) would be one instance of a GMM model with ? components."
   ]
  },
  {
   "cell_type": "code",
   "execution_count": null,
   "metadata": {
    "collapsed": true
   },
   "outputs": [],
   "source": []
  },
  {
   "cell_type": "markdown",
   "metadata": {},
   "source": [
    "Calculate the AIC and BIC for each of these 10 models, and find the best model."
   ]
  },
  {
   "cell_type": "code",
   "execution_count": null,
   "metadata": {
    "collapsed": true
   },
   "outputs": [],
   "source": []
  },
  {
   "cell_type": "markdown",
   "metadata": {},
   "source": [
    "Plot the AIC and BIC"
   ]
  },
  {
   "cell_type": "code",
   "execution_count": null,
   "metadata": {
    "collapsed": true
   },
   "outputs": [],
   "source": []
  },
  {
   "cell_type": "markdown",
   "metadata": {},
   "source": [
    "Define your PDF by evenly distributing 1000 points in some range.  Look up what the eval method of the model instance does, and evaluate on your 1000 data points x.  You should be able to extract a pdf, and the individual responsibilities for each of the components."
   ]
  },
  {
   "cell_type": "code",
   "execution_count": 10,
   "metadata": {
    "collapsed": true
   },
   "outputs": [],
   "source": [
    "# Data x_i\n",
    "x = np.linspace(-6,6,1000)\n",
    "# pdf = "
   ]
  },
  {
   "cell_type": "markdown",
   "metadata": {},
   "source": [
    "Plot x as a histogram, and the PDF values over your x_i values."
   ]
  },
  {
   "cell_type": "code",
   "execution_count": null,
   "metadata": {
    "collapsed": true
   },
   "outputs": [],
   "source": []
  }
 ],
 "metadata": {
  "kernelspec": {
   "display_name": "Python 2",
   "language": "python",
   "name": "python2"
  },
  "language_info": {
   "codemirror_mode": {
    "name": "ipython",
    "version": 2
   },
   "file_extension": ".py",
   "mimetype": "text/x-python",
   "name": "python",
   "nbconvert_exporter": "python",
   "pygments_lexer": "ipython2",
   "version": "2.7.11"
  }
 },
 "nbformat": 4,
 "nbformat_minor": 0
}
