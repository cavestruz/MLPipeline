{
 "cells": [
  {
   "cell_type": "markdown",
   "metadata": {},
   "source": [
    "In this first example, we will explore a simulated lightcurve that follows a damped random walk, which is often used to model variability in the optical flux of quasar."
   ]
  },
  {
   "cell_type": "code",
   "execution_count": 2,
   "metadata": {
    "collapsed": true
   },
   "outputs": [],
   "source": [
    "import numpy as np\n",
    "from matplotlib import pyplot as plt"
   ]
  },
  {
   "cell_type": "code",
   "execution_count": 3,
   "metadata": {
    "collapsed": false
   },
   "outputs": [
    {
     "name": "stderr",
     "output_type": "stream",
     "text": [
      "/Users/Ralph/anaconda/lib/python2.7/site-packages/astroML/time_series/periodogram.py:8: UserWarning: Using slow version of lomb_scargle. Install astroML_addons to use an optimized version\n",
      "  warnings.warn(\"Using slow version of lomb_scargle. Install astroML_addons \"\n"
     ]
    }
   ],
   "source": [
    "from astroML.time_series import lomb_scargle, generate_damped_RW\n",
    "from astroML.time_series import ACF_scargle"
   ]
  },
  {
   "cell_type": "markdown",
   "metadata": {},
   "source": [
    "Use the numpy.arange method to generate 1000 days of data. "
   ]
  },
  {
   "cell_type": "code",
   "execution_count": 4,
   "metadata": {
    "collapsed": true
   },
   "outputs": [],
   "source": [
    "tdays = np.arange(0, 1E3)\n",
    "z = 2.0 # redshift\n",
    "tau = 300 # damping timescale"
   ]
  },
  {
   "cell_type": "markdown",
   "metadata": {},
   "source": [
    "Use the help function to figure out how to generate a dataset of this evenly spaced damped random walk over the 1000 days. "
   ]
  },
  {
   "cell_type": "code",
   "execution_count": 10,
   "metadata": {
    "collapsed": false
   },
   "outputs": [],
   "source": [
    "drw = generate_damped_RW(tdays, tau, z, xmean=0, SFinf=0.3, random_state=None)"
   ]
  },
  {
   "cell_type": "markdown",
   "metadata": {},
   "source": [
    "Add errors to your 1000 points using numpy.random.normal.  Note, you will need 1000 points, each centered on the actual data point, and assume a sigma 0.1. "
   ]
  },
  {
   "cell_type": "code",
   "execution_count": 6,
   "metadata": {
    "collapsed": false
   },
   "outputs": [],
   "source": [
    "mu, sigma = 0, 0.1 # mean and standard deviation\n",
    "s = np.random.normal(mu, sigma, 1000)"
   ]
  },
  {
   "cell_type": "markdown",
   "metadata": {},
   "source": [
    "Randomly select a subsample of 200 data points from your generated dataset.  This is now *unevenly* spaced, and will serve as your observed lightcurve."
   ]
  },
  {
   "cell_type": "code",
   "execution_count": 11,
   "metadata": {
    "collapsed": false
   },
   "outputs": [],
   "source": [
    "subsample=[0]*200\n",
    "x=[0]*200\n",
    "for i in range(0,200):\n",
    "    x[i]=np.random.randint(0,1000)\n",
    "    subsample[i]=drw[x[i]]"
   ]
  },
  {
   "cell_type": "markdown",
   "metadata": {},
   "source": [
    "Plot the observed lightcurve."
   ]
  },
  {
   "cell_type": "code",
   "execution_count": 12,
   "metadata": {
    "collapsed": false,
    "scrolled": true
   },
   "outputs": [
    {
     "data": {
      "image/png": "[encoded data removed]",
      "text/plain": [
       "<matplotlib.figure.Figure at 0x113108810>"
      ]
     },
     "metadata": {},
     "output_type": "display_data"
    }
   ],
   "source": [
    "plt.scatter(x,subsample)\n",
    "plt.show()"
   ]
  },
  {
   "cell_type": "markdown",
   "metadata": {},
   "source": [
    "Use the help menu to figure out how to calculate the autocorrelation function of your lightcurve with ACF_scargle.  "
   ]
  },
  {
   "cell_type": "code",
   "execution_count": 14,
   "metadata": {
    "collapsed": false
   },
   "outputs": [
    {
     "name": "stdout",
     "output_type": "stream",
     "text": [
      "Help on function ACF_scargle in module astroML.time_series.ACF:\n",
      "\n",
      "ACF_scargle(t, y, dy, n_omega=1024, omega_max=100)\n",
      "    Compute the Auto-correlation function via Scargle's method\n",
      "    \n",
      "    Parameters\n",
      "    ----------\n",
      "    t : array_like\n",
      "        times of observation.  Assumed to be in increasing order.\n",
      "    y : array_like\n",
      "        values of each observation.  Should be same shape as t\n",
      "    dy : float or array_like\n",
      "        errors in each observation.\n",
      "    n_omega : int (optional)\n",
      "        number of angular frequencies at which to evaluate the periodogram\n",
      "        default is 2^10\n",
      "    omega_max : float (optional)\n",
      "        maximum value of omega at which to evaluate the periodogram\n",
      "        default is 100\n",
      "    \n",
      "    Returns\n",
      "    -------\n",
      "    ACF, t : ndarrays\n",
      "        The auto-correlation function and associated times\n",
      "\n"
     ]
    }
   ],
   "source": [
    "help(ACF_scargle)"
   ]
  },
  {
   "cell_type": "markdown",
   "metadata": {},
   "source": [
    "In this next example, we will explore data drawn from a gaussian process."
   ]
  },
  {
   "cell_type": "code",
   "execution_count": 25,
   "metadata": {
    "collapsed": true
   },
   "outputs": [],
   "source": [
    "from sklearn.gaussian_process import GaussianProcess\n",
    "import numpy as np"
   ]
  },
  {
   "cell_type": "markdown",
   "metadata": {},
   "source": [
    "Define a covariance function as the one dimensional squared-exponential covariance function described in class.  This will be a function of x1, x2, and the bandwidth h.  Name this function covariance_squared_exponential. "
   ]
  },
  {
   "cell_type": "code",
   "execution_count": 17,
   "metadata": {
    "collapsed": true
   },
   "outputs": [],
   "source": [
    "def covariance_squared_exponential(x1,x2,h):\n",
    "    return np.exp((x1-x2)**2/(2*h**2))"
   ]
  },
  {
   "cell_type": "markdown",
   "metadata": {},
   "source": [
    "Generate values for the x-axis as 1000 evenly points between 0 and 10 using numpy.linspace. Define a bandwidth of h=1."
   ]
  },
  {
   "cell_type": "code",
   "execution_count": 32,
   "metadata": {
    "collapsed": false
   },
   "outputs": [],
   "source": [
    "x = np.linspace(0, 10, num=1000, endpoint=True, retstep=False, dtype=None)"
   ]
  },
  {
   "cell_type": "markdown",
   "metadata": {},
   "source": [
    "Generate an output of your covariance_squared_exponential with x as x1, x[:,None] as x2, and h as the bandwidth."
   ]
  },
  {
   "cell_type": "code",
   "execution_count": 33,
   "metadata": {
    "collapsed": false
   },
   "outputs": [
    {
     "name": "stdout",
     "output_type": "stream",
     "text": [
      "[[  1.00000000e+00   1.00005010e+00   1.00020042e+00 ...,   4.24487871e+21\n",
      "    4.69108100e+21   5.18470553e+21]\n",
      " [  1.00005010e+00   1.00000000e+00   1.00005010e+00 ...,   3.84150282e+21\n",
      "    4.24487871e+21   4.69108100e+21]\n",
      " [  1.00020042e+00   1.00005010e+00   1.00000000e+00 ...,   3.47680667e+21\n",
      "    3.84150282e+21   4.24487871e+21]\n",
      " ..., \n",
      " [  4.24487871e+21   3.84150282e+21   3.47680667e+21 ...,   1.00000000e+00\n",
      "    1.00005010e+00   1.00020042e+00]\n",
      " [  4.69108100e+21   4.24487871e+21   3.84150282e+21 ...,   1.00005010e+00\n",
      "    1.00000000e+00   1.00005010e+00]\n",
      " [  5.18470553e+21   4.69108100e+21   4.24487871e+21 ...,   1.00020042e+00\n",
      "    1.00005010e+00   1.00000000e+00]]\n"
     ]
    }
   ],
   "source": [
    "covariance_matrix=np.ndarray(shape=(1000,1000))\n",
    "for i in range(1000):\n",
    "    for j in range(1000):\n",
    "        covariance_matrix[i][j]=covariance_squared_exponential(x[i],x[j],h)\n",
    "print(covariance_matrix)"
   ]
  },
  {
   "cell_type": "markdown",
   "metadata": {},
   "source": [
    "Use numpy.random.multivariate_normal to generate a numpy array of the same length as your x-axis points. Each point is centered on 0 (your mean is a 1-d array of zeros), and your covariance is the output of your covariance_squared_exponential above."
   ]
  },
  {
   "cell_type": "code",
   "execution_count": 34,
   "metadata": {
    "collapsed": false
   },
   "outputs": [
    {
     "name": "stderr",
     "output_type": "stream",
     "text": [
      "/Users/Ralph/anaconda/lib/python2.7/site-packages/ipykernel/__main__.py:1: RuntimeWarning: covariance is not positive-semidefinite.\n",
      "  if __name__ == '__main__':\n"
     ]
    }
   ],
   "source": [
    "distribution=np.random.multivariate_normal(mean=np.zeros(1000),cov=covariance_matrix)"
   ]
  },
  {
   "cell_type": "markdown",
   "metadata": {},
   "source": [
    "Choose two values in your x-range as sample x values, and put in an array, x_sample_test.  Choose a function (e.g. numpy.cos) as your example function to constrain."
   ]
  },
  {
   "cell_type": "code",
   "execution_count": 47,
   "metadata": {
    "collapsed": false
   },
   "outputs": [],
   "source": [
    "x_sample_test=np.zeros(2)\n",
    "x_sample_test[0]=distribution[70]\n",
    "x_sample_test[1]=distribution[550]\n",
    "def f(x):\n",
    "    return np.cos(x)"
   ]
  },
  {
   "cell_type": "markdown",
   "metadata": {},
   "source": [
    "Define an instance of a gaussian proccess"
   ]
  },
  {
   "cell_type": "code",
   "execution_count": 57,
   "metadata": {
    "collapsed": false
   },
   "outputs": [
    {
     "name": "stderr",
     "output_type": "stream",
     "text": [
      "/Users/Ralph/anaconda/lib/python2.7/site-packages/sklearn/utils/deprecation.py:52: DeprecationWarning: Class GaussianProcess is deprecated; GaussianProcess was deprecated in version 0.18 and will be removed in 0.20. Use the GaussianProcessRegressor instead.\n",
      "  warnings.warn(msg, category=DeprecationWarning)\n"
     ]
    }
   ],
   "source": [
    "gp = GaussianProcess(corr='squared_exponential', theta0=1000,\n",
    "                      random_state=0)"
   ]
  },
  {
   "cell_type": "markdown",
   "metadata": {},
   "source": [
    "Fit the Gaussian process to data x1[:,None], with the output of the function on your sample x values (e.g. numpy.cos(x_sample_test) )."
   ]
  },
  {
   "cell_type": "code",
   "execution_count": 58,
   "metadata": {
    "collapsed": false
   },
   "outputs": [
    {
     "name": "stderr",
     "output_type": "stream",
     "text": [
      "/Users/Ralph/anaconda/lib/python2.7/site-packages/sklearn/utils/deprecation.py:70: DeprecationWarning: Function l1_cross_distances is deprecated; l1_cross_distances was deprecated in version 0.18 and will be removed in 0.20.\n",
      "  warnings.warn(msg, category=DeprecationWarning)\n"
     ]
    },
    {
     "data": {
      "text/plain": [
       "GaussianProcess(beta0=None,\n",
       "        corr=<function squared_exponential at 0x1162575f0>, normalize=True,\n",
       "        nugget=array(2.220446049250313e-15), optimizer='fmin_cobyla',\n",
       "        random_start=1,\n",
       "        random_state=<mtrand.RandomState object at 0x1162fda50>,\n",
       "        regr=<function constant at 0x116257230>, storage_mode='full',\n",
       "        theta0=array([[1000]]), thetaL=None, thetaU=None, verbose=False)"
      ]
     },
     "execution_count": 58,
     "metadata": {},
     "output_type": "execute_result"
    }
   ],
   "source": [
    "z=np.atleast_2d(x).T\n",
    "gp.fit(z,f(z).ravel())"
   ]
  },
  {
   "cell_type": "markdown",
   "metadata": {},
   "source": [
    "Predict on x1[:,None], and get the MSE values.  Plot the output function and function errors."
   ]
  },
  {
   "cell_type": "code",
   "execution_count": 60,
   "metadata": {
    "collapsed": false
   },
   "outputs": [
    {
     "data": {
      "image/png": "[encoded data removed]",
      "text/plain": [
       "<matplotlib.figure.Figure at 0x1162f0d10>"
      ]
     },
     "metadata": {},
     "output_type": "display_data"
    }
   ],
   "source": [
    "y_pred,MSE=gp.predict(z,eval_MSE=True)\n",
    "plt.errorbar(x,y_pred,yerr=MSE)\n",
    "plt.show()"
   ]
  }
 ],
 "metadata": {
  "kernelspec": {
   "display_name": "Python 2",
   "language": "python",
   "name": "python2"
  },
  "language_info": {
   "codemirror_mode": {
    "name": "ipython",
    "version": 2
   },
   "file_extension": ".py",
   "mimetype": "text/x-python",
   "name": "python",
   "nbconvert_exporter": "python",
   "pygments_lexer": "ipython2",
   "version": "2.7.13"
  }
 },
 "nbformat": 4,
 "nbformat_minor": 0
}
